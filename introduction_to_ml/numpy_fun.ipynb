{
 "cells": [
  {
   "cell_type": "code",
   "execution_count": 1,
   "metadata": {},
   "outputs": [
    {
     "name": "stdout",
     "output_type": "stream",
     "text": [
      "x: \n",
      "[1 2 3]\n",
      "x new : \n",
      "[[1 2]\n",
      " [3 4]]\n",
      "x with min dimension: \n",
      "[[1 2 3 4 5]]\n",
      "x with dtype: \n",
      "[1.+0.j 2.+0.j 3.+0.j]\n"
     ]
    }
   ],
   "source": [
    "import numpy as np\n",
    "\n",
    "x = np.array([1,2,3]) \n",
    "print(\"x: \\n{}\".format(x))\n",
    "\n",
    "x = np.array([[1, 2], [3, 4]]) \n",
    "print(\"x new : \\n{}\".format(x))\n",
    "\n",
    "x = np.array([1, 2, 3,4,5], ndmin = 2) \n",
    "print(\"x with min dimension: \\n{}\".format(x))\n",
    "\n",
    "x = np.array([1, 2, 3], dtype = complex)\n",
    "print(\"x with dtype: \\n{}\".format(x))\n",
    "\n"
   ]
  },
  {
   "cell_type": "code",
   "execution_count": null,
   "metadata": {},
   "outputs": [],
   "source": []
  }
 ],
 "metadata": {
  "kernelspec": {
   "display_name": "Python 3",
   "language": "python",
   "name": "python3"
  },
  "language_info": {
   "codemirror_mode": {
    "name": "ipython",
    "version": 3
   },
   "file_extension": ".py",
   "mimetype": "text/x-python",
   "name": "python",
   "nbconvert_exporter": "python",
   "pygments_lexer": "ipython3",
   "version": "3.7.2"
  }
 },
 "nbformat": 4,
 "nbformat_minor": 2
}
