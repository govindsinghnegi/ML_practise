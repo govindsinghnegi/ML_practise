{
 "cells": [
  {
   "cell_type": "code",
   "execution_count": 2,
   "metadata": {},
   "outputs": [],
   "source": [
    "import numpy as np\n",
    "get_ipython().run_line_magic('matplotlib', 'inline')\n",
    "import matplotlib.pyplot as plt\n",
    "import pandas as pd \n",
    "import mglearn\n",
    "from IPython.display import display\n",
    "from sklearn.linear_model import Lasso\n",
    "from sklearn.model_selection import train_test_split"
   ]
  },
  {
   "cell_type": "code",
   "execution_count": 10,
   "metadata": {},
   "outputs": [
    {
     "name": "stdout",
     "output_type": "stream",
     "text": [
      "training score : 0.29323768991114607 \n",
      "test score : 0.20937503255272316 \n",
      "number of features used : 4\n"
     ]
    }
   ],
   "source": [
    "x,y = mglearn.datasets.load_extended_boston()\n",
    "x_train, x_test, y_train, y_test = train_test_split(x, y, random_state=0)\n",
    "lasso = Lasso().fit(x_train, y_train)\n",
    "print(\"with alpha = 1\")\n",
    "print(\"training score : {} \".format(lasso.score(x_train, y_train)))\n",
    "print(\"test score : {} \".format(lasso.score(x_test, y_test)))\n",
    "print(\"number of features used : {}\".format(np.sum(lasso.coef_ != 0)))"
   ]
  },
  {
   "cell_type": "code",
   "execution_count": 12,
   "metadata": {},
   "outputs": [
    {
     "name": "stdout",
     "output_type": "stream",
     "text": [
      "with alpha = 0.01\n",
      "training score : 0.8962226511086498 \n",
      "test score : 0.7656571174549984 \n",
      "number of features used : 33\n"
     ]
    }
   ],
   "source": [
    "print(\"with alpha = 0.01\")\n",
    "lasso001 = Lasso(alpha=0.01, max_iter=100000).fit(x_train, y_train)\n",
    "print(\"training score : {} \".format(lasso001.score(x_train, y_train)))\n",
    "print(\"test score : {} \".format(lasso001.score(x_test, y_test)))\n",
    "print(\"number of features used : {}\".format(np.sum(lasso001.coef_ != 0)))"
   ]
  },
  {
   "cell_type": "code",
   "execution_count": 14,
   "metadata": {},
   "outputs": [
    {
     "name": "stdout",
     "output_type": "stream",
     "text": [
      "with alpha = 0.0001\n",
      "training score : 0.950715875451546 \n",
      "test score : 0.6437467421273815 \n",
      "number of features used : 96\n"
     ]
    }
   ],
   "source": [
    "print(\"with alpha = 0.0001\")\n",
    "lasso_0001 = Lasso(alpha=0.0001, max_iter=100000).fit(x_train, y_train)\n",
    "print(\"training score : {} \".format(lasso_0001.score(x_train, y_train)))\n",
    "print(\"test score : {} \".format(lasso_0001.score(x_test, y_test)))\n",
    "print(\"number of features used : {}\".format(np.sum(lasso_0001.coef_ != 0)))"
   ]
  },
  {
   "cell_type": "code",
   "execution_count": null,
   "metadata": {},
   "outputs": [],
   "source": []
  }
 ],
 "metadata": {
  "kernelspec": {
   "display_name": "Python 3",
   "language": "python",
   "name": "python3"
  },
  "language_info": {
   "codemirror_mode": {
    "name": "ipython",
    "version": 3
   },
   "file_extension": ".py",
   "mimetype": "text/x-python",
   "name": "python",
   "nbconvert_exporter": "python",
   "pygments_lexer": "ipython3",
   "version": "3.7.2"
  }
 },
 "nbformat": 4,
 "nbformat_minor": 2
}
