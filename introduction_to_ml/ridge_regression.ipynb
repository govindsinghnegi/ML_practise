{
 "cells": [
  {
   "cell_type": "code",
   "execution_count": 5,
   "metadata": {},
   "outputs": [],
   "source": [
    "import numpy as np\n",
    "get_ipython().run_line_magic('matplotlib', 'inline')\n",
    "import matplotlib.pyplot as plt\n",
    "import pandas as pd \n",
    "import mglearn\n",
    "from IPython.display import display\n",
    "from sklearn.linear_model import Ridge\n",
    "from sklearn.model_selection import train_test_split"
   ]
  },
  {
   "cell_type": "code",
   "execution_count": 7,
   "metadata": {},
   "outputs": [
    {
     "name": "stdout",
     "output_type": "stream",
     "text": [
      "training score : 0.8857966585170942\n",
      "test score : 0.7527683481744756\n"
     ]
    }
   ],
   "source": [
    "x,y = mglearn.datasets.load_extended_boston()\n",
    "x_train, x_test, y_train, y_test = train_test_split(x, y, random_state=0)\n",
    "ridge = Ridge().fit(x_train, y_train)\n",
    "print(\"training score : {}\".format(ridge.score(x_train, y_train)))\n",
    "print(\"test score : {}\".format(ridge.score(x_test, y_test)))"
   ]
  },
  {
   "cell_type": "code",
   "execution_count": 8,
   "metadata": {},
   "outputs": [
    {
     "name": "stdout",
     "output_type": "stream",
     "text": [
      "with alpha = 10\n",
      "training score : 0.7882787115369615\n",
      "test score : 0.6359411489177309\n"
     ]
    }
   ],
   "source": [
    "print(\"with alpha = 10\")\n",
    "ridge = Ridge(alpha=10).fit(x_train, y_train)\n",
    "print(\"training score : {}\".format(ridge.score(x_train, y_train)))\n",
    "print(\"test score : {}\".format(ridge.score(x_test, y_test)))"
   ]
  },
  {
   "cell_type": "code",
   "execution_count": 9,
   "metadata": {},
   "outputs": [
    {
     "name": "stdout",
     "output_type": "stream",
     "text": [
      "with alpha = 0.1\n",
      "training score : 0.9282273685001989\n",
      "test score : 0.7722067936479817\n"
     ]
    }
   ],
   "source": [
    "print(\"with alpha = 0.1\")\n",
    "ridge = Ridge(alpha=0.1).fit(x_train, y_train)\n",
    "print(\"training score : {}\".format(ridge.score(x_train, y_train)))\n",
    "print(\"test score : {}\".format(ridge.score(x_test, y_test)))"
   ]
  },
  {
   "cell_type": "code",
   "execution_count": null,
   "metadata": {},
   "outputs": [],
   "source": []
  }
 ],
 "metadata": {
  "kernelspec": {
   "display_name": "Python 3",
   "language": "python",
   "name": "python3"
  },
  "language_info": {
   "codemirror_mode": {
    "name": "ipython",
    "version": 3
   },
   "file_extension": ".py",
   "mimetype": "text/x-python",
   "name": "python",
   "nbconvert_exporter": "python",
   "pygments_lexer": "ipython3",
   "version": "3.5.2"
  }
 },
 "nbformat": 4,
 "nbformat_minor": 2
}
